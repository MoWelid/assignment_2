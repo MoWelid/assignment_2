{
 "cells": [
  {
   "cell_type": "markdown",
   "id": "790091dc",
   "metadata": {},
   "source": [
    "# ASSIGNMENT 2\n",
    "\n",
    "# TASK 1\n",
    "# rock paper scissors game"
   ]
  },
  {
   "cell_type": "code",
   "execution_count": 73,
   "id": "5999c52b",
   "metadata": {},
   "outputs": [
    {
     "name": "stdout",
     "output_type": "stream",
     "text": [
      "computer choice is: scissors\n",
      "computer win\n"
     ]
    }
   ],
   "source": [
    "import random\n",
    "def rock_paper_scissors(choice):\n",
    "    cc = random.choice([\"rock\",\"paper\",\"scissors\"])\n",
    "    print(f\"computer choice is: {cc}\")\n",
    "    if (choice == \"rock\"):\n",
    "        if (cc ==\"rock\"):\n",
    "            print(\"its tie\")\n",
    "        elif (cc == \"paper\"):\n",
    "            print(\"computer win\")\n",
    "        else:\n",
    "            print(\"you win\")\n",
    "    elif (choice == \"paper\"):\n",
    "        if (cc ==\"rock\"):\n",
    "            print(\"you win\")\n",
    "        elif (cc == \"paper\"):\n",
    "            print(\"its tie\")\n",
    "        else:\n",
    "            print(\"computer win\")\n",
    "    else:\n",
    "        if (cc ==\"rock\"):\n",
    "            print(\"computer win\")\n",
    "        elif (cc == \"paper\"):\n",
    "            print(\"you win\")\n",
    "        else:\n",
    "            print(\"its tie\")\n",
    "rock_paper_scissors(\"paper\")"
   ]
  },
  {
   "cell_type": "markdown",
   "id": "697a5fc2",
   "metadata": {},
   "source": [
    "# TASK 2\n",
    "# calculator"
   ]
  },
  {
   "cell_type": "code",
   "execution_count": 72,
   "id": "684c7612",
   "metadata": {},
   "outputs": [
    {
     "name": "stdout",
     "output_type": "stream",
     "text": [
      "!\n",
      "Enter value 1:10\n",
      "you entered:['!', '10']\n",
      "3628800\n"
     ]
    }
   ],
   "source": [
    "def calculator(x):\n",
    "    if (x[0] == \"+\"):\n",
    "        sum = int(x[1]) + int(x[2])\n",
    "        print(f\"the result: {sum}\")\n",
    "        \n",
    "    elif (x[0] == \"-\"):\n",
    "        sub = int(x[1]) - int(x[2])\n",
    "        print(f\"the result: {sub}\")\n",
    "        \n",
    "    elif (x[0] == \"*\"):\n",
    "        multi = int(x[1]) * int(x[2])\n",
    "        print(f\"the result: {multi}\")\n",
    "        \n",
    "    elif (x[0] == \"/\"):\n",
    "        div = int(x[1]) / int(x[2])\n",
    "        print(f\"the result: {div}\")\n",
    "        \n",
    "    elif (x[0] == \"%\"):\n",
    "        if (int(x[1]) % 2 == 0):\n",
    "            print(\"x is even\")\n",
    "        else:\n",
    "            print(\"x is odd\")\n",
    "            \n",
    "    elif (x[0] == \"!\"):\n",
    "        def factorial(x):\n",
    "            if x == 1:\n",
    "                return 1\n",
    "            else:\n",
    "                return x * factorial(x - 1)\n",
    "        print(factorial(int(x[1])))\n",
    "    else:\n",
    "        def fib(n):\n",
    "            if n == 0:\n",
    "                return 0\n",
    "            elif n == 1:\n",
    "                return 1\n",
    "            else:\n",
    "                return fib(n-2) + fib(n-1) \n",
    "        print(fib(int(x[1])))\n",
    "        \n",
    "x = list(input())\n",
    "for i in range(0,2):\n",
    "    if (x[i] == \"%\") or (x[i] == \"!\") or (x[i] == \"f\"):\n",
    "        input_value = input(\"Enter value {}:\".format(i + 1))\n",
    "        x.append(input_value)\n",
    "        break\n",
    "    else:\n",
    "        input_value = input(\"Enter value {}:\".format(i + 1))\n",
    "        x.append(input_value)  \n",
    "print(f\"you entered:{x}\")\n",
    "calculator(x)"
   ]
  },
  {
   "cell_type": "code",
   "execution_count": null,
   "id": "09208dcf",
   "metadata": {},
   "outputs": [],
   "source": []
  },
  {
   "cell_type": "code",
   "execution_count": null,
   "id": "1db71f1c",
   "metadata": {},
   "outputs": [],
   "source": []
  },
  {
   "cell_type": "code",
   "execution_count": null,
   "id": "fe2a77d3",
   "metadata": {},
   "outputs": [],
   "source": []
  },
  {
   "cell_type": "code",
   "execution_count": null,
   "id": "5b3206b0",
   "metadata": {},
   "outputs": [],
   "source": []
  }
 ],
 "metadata": {
  "kernelspec": {
   "display_name": "Python 3 (ipykernel)",
   "language": "python",
   "name": "python3"
  },
  "language_info": {
   "codemirror_mode": {
    "name": "ipython",
    "version": 3
   },
   "file_extension": ".py",
   "mimetype": "text/x-python",
   "name": "python",
   "nbconvert_exporter": "python",
   "pygments_lexer": "ipython3",
   "version": "3.10.9"
  }
 },
 "nbformat": 4,
 "nbformat_minor": 5
}

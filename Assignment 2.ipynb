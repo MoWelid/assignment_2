{
 "cells": [
  {
   "cell_type": "markdown",
   "id": "790091dc",
   "metadata": {},
   "source": [
    "# ASSIGNMENT 2\n",
    "\n",
    "# TASK 1\n",
    "# rock paper scissors game"
   ]
  },
  {
   "cell_type": "code",
   "execution_count": 23,
   "id": "5999c52b",
   "metadata": {},
   "outputs": [
    {
     "name": "stdout",
     "output_type": "stream",
     "text": [
      "computer choice is: scissors\n",
      "computer win\n"
     ]
    }
   ],
   "source": [
    "import random\n",
    "def rock_paper_scissors(choice):\n",
    "    cc = random.choice([\"rock\",\"paper\",\"scissors\"])\n",
    "    print(f\"computer choice is: {cc}\")\n",
    "    if (choice == \"rock\"):\n",
    "        if (cc ==\"rock\"):\n",
    "            print(\"its tie\")\n",
    "        elif (cc == \"paper\"):\n",
    "            print(\"computer win\")\n",
    "        else:\n",
    "            print(\"you win\")\n",
    "    elif (choice == \"paper\"):\n",
    "        if (cc ==\"rock\"):\n",
    "            print(\"you win\")\n",
    "        elif (cc == \"paper\"):\n",
    "            print(\"its tie\")\n",
    "        else:\n",
    "            print(\"computer win\")\n",
    "    else:\n",
    "        if (cc ==\"rock\"):\n",
    "            print(\"computer win\")\n",
    "        elif (cc == \"paper\"):\n",
    "            print(\"you win\")\n",
    "        else:\n",
    "            print(\"its tie\")\n",
    "rock_paper_scissors(\"paper\")"
   ]
  },
  {
   "cell_type": "markdown",
   "id": "697a5fc2",
   "metadata": {},
   "source": [
    "# TASK 2\n",
    "# calculator"
   ]
  },
  {
   "cell_type": "code",
   "execution_count": 38,
   "id": "684c7612",
   "metadata": {},
   "outputs": [
    {
     "name": "stdout",
     "output_type": "stream",
     "text": [
      "factorial\n",
      "10\n",
      "1\n"
     ]
    }
   ],
   "source": [
    "def calculator(function,x,y):\n",
    "    if (function == \"add\"):\n",
    "        sum = x + y\n",
    "        print(f\"the result: {sum}\")\n",
    "    elif (function == \"subtract\"):\n",
    "        sub = x - y\n",
    "        print(f\"the result: {sub}\")\n",
    "    elif (function == \"multiply\"):\n",
    "        multi = x * y\n",
    "        print(f\"the result: {multi}\")\n",
    "    elif (function == \"divide\"):\n",
    "        div = x / y\n",
    "        print(f\"the result: {div}\")\n",
    "    elif (function == \"even and odd\"):\n",
    "        if (x % 2 == 0):\n",
    "            print(\"x is even\")\n",
    "        else:\n",
    "            print(\"x is odd\")\n",
    "        if (y % 2 == 0):\n",
    "            print(\"y is even\")\n",
    "        else:\n",
    "            print(\"y is odd\")\n",
    "    elif (function == \"factorial\"):\n",
    "        def factorial(x):\n",
    "            if x == 1:\n",
    "                return 1\n",
    "            else:\n",
    "                return x * factorial(x - 1)\n",
    "    #else:\n",
    "fun = input()\n",
    "a = eval(input())\n",
    "b = eval(input())\n",
    "calculator(fun,a,b)  "
   ]
  },
  {
   "cell_type": "code",
   "execution_count": null,
   "id": "09208dcf",
   "metadata": {},
   "outputs": [],
   "source": []
  }
 ],
 "metadata": {
  "kernelspec": {
   "display_name": "Python 3 (ipykernel)",
   "language": "python",
   "name": "python3"
  },
  "language_info": {
   "codemirror_mode": {
    "name": "ipython",
    "version": 3
   },
   "file_extension": ".py",
   "mimetype": "text/x-python",
   "name": "python",
   "nbconvert_exporter": "python",
   "pygments_lexer": "ipython3",
   "version": "3.10.9"
  }
 },
 "nbformat": 4,
 "nbformat_minor": 5
}
